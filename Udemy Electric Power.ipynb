{
  "nbformat": 4,
  "nbformat_minor": 0,
  "metadata": {
    "colab": {
      "name": "Udemy Electric Power.ipynb",
      "provenance": [],
      "collapsed_sections": [],
      "include_colab_link": true
    },
    "kernelspec": {
      "name": "python3",
      "display_name": "Python 3"
    }
  },
  "cells": [
    {
      "cell_type": "markdown",
      "metadata": {
        "id": "view-in-github",
        "colab_type": "text"
      },
      "source": [
        "<a href=\"https://colab.research.google.com/github/DDR7707/End-To-End-DNN-Projects/blob/main/Udemy%20Electric%20Power.ipynb\" target=\"_parent\"><img src=\"https://colab.research.google.com/assets/colab-badge.svg\" alt=\"Open In Colab\"/></a>"
      ]
    },
    {
      "cell_type": "markdown",
      "metadata": {
        "id": "3cbb7fRy-eyr"
      },
      "source": [
        "# Artificial Neural Network"
      ]
    },
    {
      "cell_type": "markdown",
      "metadata": {
        "id": "8sNDnxE2-pwE"
      },
      "source": [
        "### Importing the libraries"
      ]
    },
    {
      "cell_type": "code",
      "metadata": {
        "colab": {
          "base_uri": "https://localhost:8080/",
          "height": 36
        },
        "id": "-kHGYOhjEvoW",
        "outputId": "e7805c72-fabe-4c3f-d777-dce407b04e78"
      },
      "source": [
        "import tensorflow as tf\n",
        "tf.__version__"
      ],
      "execution_count": 31,
      "outputs": [
        {
          "output_type": "execute_result",
          "data": {
            "application/vnd.google.colaboratory.intrinsic+json": {
              "type": "string"
            },
            "text/plain": [
              "'2.4.1'"
            ]
          },
          "metadata": {
            "tags": []
          },
          "execution_count": 31
        }
      ]
    },
    {
      "cell_type": "code",
      "metadata": {
        "id": "lxChR1Rk-umf"
      },
      "source": [
        "import numpy as np\n",
        "import pandas as pd\n",
        "import matplotlib.pyplot as plt\n",
        "from tensorflow.keras.models import Sequential\n",
        "from tensorflow.keras.layers import Dense"
      ],
      "execution_count": 32,
      "outputs": []
    },
    {
      "cell_type": "markdown",
      "metadata": {
        "id": "AG3FQEch-yuA"
      },
      "source": [
        "## Part 1 - Data Preprocessing"
      ]
    },
    {
      "cell_type": "markdown",
      "metadata": {
        "id": "-4zq8Mza_D9O"
      },
      "source": [
        "### Importing the dataset"
      ]
    },
    {
      "cell_type": "code",
      "metadata": {
        "id": "B9CV13Co_HHM"
      },
      "source": [
        "dataset = pd.read_excel('Udemy Electric Power.xlsx')\n",
        "X = dataset.iloc[:, :-1]\n",
        "y = dataset.iloc[:, -1]"
      ],
      "execution_count": 33,
      "outputs": []
    },
    {
      "cell_type": "code",
      "metadata": {
        "colab": {
          "base_uri": "https://localhost:8080/",
          "height": 399
        },
        "id": "IsUIhK5jFIXN",
        "outputId": "1b17a438-c4a8-4798-90c7-12aa93dbada4"
      },
      "source": [
        "X"
      ],
      "execution_count": 34,
      "outputs": [
        {
          "output_type": "execute_result",
          "data": {
            "text/html": [
              "<div>\n",
              "<style scoped>\n",
              "    .dataframe tbody tr th:only-of-type {\n",
              "        vertical-align: middle;\n",
              "    }\n",
              "\n",
              "    .dataframe tbody tr th {\n",
              "        vertical-align: top;\n",
              "    }\n",
              "\n",
              "    .dataframe thead th {\n",
              "        text-align: right;\n",
              "    }\n",
              "</style>\n",
              "<table border=\"1\" class=\"dataframe\">\n",
              "  <thead>\n",
              "    <tr style=\"text-align: right;\">\n",
              "      <th></th>\n",
              "      <th>AT</th>\n",
              "      <th>V</th>\n",
              "      <th>AP</th>\n",
              "      <th>RH</th>\n",
              "    </tr>\n",
              "  </thead>\n",
              "  <tbody>\n",
              "    <tr>\n",
              "      <th>0</th>\n",
              "      <td>14.96</td>\n",
              "      <td>41.76</td>\n",
              "      <td>1024.07</td>\n",
              "      <td>73.17</td>\n",
              "    </tr>\n",
              "    <tr>\n",
              "      <th>1</th>\n",
              "      <td>25.18</td>\n",
              "      <td>62.96</td>\n",
              "      <td>1020.04</td>\n",
              "      <td>59.08</td>\n",
              "    </tr>\n",
              "    <tr>\n",
              "      <th>2</th>\n",
              "      <td>5.11</td>\n",
              "      <td>39.40</td>\n",
              "      <td>1012.16</td>\n",
              "      <td>92.14</td>\n",
              "    </tr>\n",
              "    <tr>\n",
              "      <th>3</th>\n",
              "      <td>20.86</td>\n",
              "      <td>57.32</td>\n",
              "      <td>1010.24</td>\n",
              "      <td>76.64</td>\n",
              "    </tr>\n",
              "    <tr>\n",
              "      <th>4</th>\n",
              "      <td>10.82</td>\n",
              "      <td>37.50</td>\n",
              "      <td>1009.23</td>\n",
              "      <td>96.62</td>\n",
              "    </tr>\n",
              "    <tr>\n",
              "      <th>...</th>\n",
              "      <td>...</td>\n",
              "      <td>...</td>\n",
              "      <td>...</td>\n",
              "      <td>...</td>\n",
              "    </tr>\n",
              "    <tr>\n",
              "      <th>9563</th>\n",
              "      <td>16.65</td>\n",
              "      <td>49.69</td>\n",
              "      <td>1014.01</td>\n",
              "      <td>91.00</td>\n",
              "    </tr>\n",
              "    <tr>\n",
              "      <th>9564</th>\n",
              "      <td>13.19</td>\n",
              "      <td>39.18</td>\n",
              "      <td>1023.67</td>\n",
              "      <td>66.78</td>\n",
              "    </tr>\n",
              "    <tr>\n",
              "      <th>9565</th>\n",
              "      <td>31.32</td>\n",
              "      <td>74.33</td>\n",
              "      <td>1012.92</td>\n",
              "      <td>36.48</td>\n",
              "    </tr>\n",
              "    <tr>\n",
              "      <th>9566</th>\n",
              "      <td>24.48</td>\n",
              "      <td>69.45</td>\n",
              "      <td>1013.86</td>\n",
              "      <td>62.39</td>\n",
              "    </tr>\n",
              "    <tr>\n",
              "      <th>9567</th>\n",
              "      <td>21.60</td>\n",
              "      <td>62.52</td>\n",
              "      <td>1017.23</td>\n",
              "      <td>67.87</td>\n",
              "    </tr>\n",
              "  </tbody>\n",
              "</table>\n",
              "<p>9568 rows × 4 columns</p>\n",
              "</div>"
            ],
            "text/plain": [
              "         AT      V       AP     RH\n",
              "0     14.96  41.76  1024.07  73.17\n",
              "1     25.18  62.96  1020.04  59.08\n",
              "2      5.11  39.40  1012.16  92.14\n",
              "3     20.86  57.32  1010.24  76.64\n",
              "4     10.82  37.50  1009.23  96.62\n",
              "...     ...    ...      ...    ...\n",
              "9563  16.65  49.69  1014.01  91.00\n",
              "9564  13.19  39.18  1023.67  66.78\n",
              "9565  31.32  74.33  1012.92  36.48\n",
              "9566  24.48  69.45  1013.86  62.39\n",
              "9567  21.60  62.52  1017.23  67.87\n",
              "\n",
              "[9568 rows x 4 columns]"
            ]
          },
          "metadata": {
            "tags": []
          },
          "execution_count": 34
        }
      ]
    },
    {
      "cell_type": "code",
      "metadata": {
        "colab": {
          "base_uri": "https://localhost:8080/"
        },
        "id": "bcjjDqFeFISg",
        "outputId": "8502106f-0fc7-4090-8a74-7939a06bbcae"
      },
      "source": [
        "y"
      ],
      "execution_count": 35,
      "outputs": [
        {
          "output_type": "execute_result",
          "data": {
            "text/plain": [
              "0       463.26\n",
              "1       444.37\n",
              "2       488.56\n",
              "3       446.48\n",
              "4       473.90\n",
              "         ...  \n",
              "9563    460.03\n",
              "9564    469.62\n",
              "9565    429.57\n",
              "9566    435.74\n",
              "9567    453.28\n",
              "Name: PE, Length: 9568, dtype: float64"
            ]
          },
          "metadata": {
            "tags": []
          },
          "execution_count": 35
        }
      ]
    },
    {
      "cell_type": "markdown",
      "metadata": {
        "id": "VC6omXel_Up0"
      },
      "source": [
        "### Splitting the dataset into the Training set and Test set"
      ]
    },
    {
      "cell_type": "code",
      "metadata": {
        "id": "L5edeb2r_agx"
      },
      "source": [
        "from sklearn.model_selection import train_test_split\n",
        "X_train, X_test, y_train, y_test = train_test_split(X, y, test_size = 0.2, random_state = 42)"
      ],
      "execution_count": 36,
      "outputs": []
    },
    {
      "cell_type": "markdown",
      "metadata": {
        "id": "_mSLlAT9_eyI"
      },
      "source": [
        "## Part 2 - Building the ANN"
      ]
    },
    {
      "cell_type": "markdown",
      "metadata": {
        "id": "CsBULd_f_wLY"
      },
      "source": [
        "### Initializing the ANN"
      ]
    },
    {
      "cell_type": "code",
      "metadata": {
        "id": "J6Hd97Ls__Nz"
      },
      "source": [
        "model1 = Sequential()"
      ],
      "execution_count": 37,
      "outputs": []
    },
    {
      "cell_type": "code",
      "metadata": {
        "id": "dftJisCZIyb2"
      },
      "source": [
        "model2 = Sequential()"
      ],
      "execution_count": 38,
      "outputs": []
    },
    {
      "cell_type": "markdown",
      "metadata": {
        "id": "iitAFJS_ABUn"
      },
      "source": [
        "### Adding the input layer and the first hidden layer"
      ]
    },
    {
      "cell_type": "code",
      "metadata": {
        "id": "ksO_Vv40AHix"
      },
      "source": [
        "model1.add(Dense(units = 6, activation='relu'))"
      ],
      "execution_count": 39,
      "outputs": []
    },
    {
      "cell_type": "code",
      "metadata": {
        "id": "UcDHSS0QI1d6"
      },
      "source": [
        "model2.add(Dense(units = 6, activation='relu'))"
      ],
      "execution_count": 40,
      "outputs": []
    },
    {
      "cell_type": "code",
      "metadata": {
        "id": "c2357OqEAQOQ"
      },
      "source": [
        "model1.add(Dense(units = 6, activation='relu'))"
      ],
      "execution_count": 41,
      "outputs": []
    },
    {
      "cell_type": "code",
      "metadata": {
        "id": "UXRbeLGCI343"
      },
      "source": [
        "model2.add(Dense(units = 6, activation='relu'))"
      ],
      "execution_count": 42,
      "outputs": []
    },
    {
      "cell_type": "markdown",
      "metadata": {
        "id": "jwMOmKb3AdBY"
      },
      "source": [
        "### Adding the output layer"
      ]
    },
    {
      "cell_type": "code",
      "metadata": {
        "id": "YFATpzsUAkLL"
      },
      "source": [
        "model1.add(Dense(units = 1 , activation = \"linear\"))"
      ],
      "execution_count": 43,
      "outputs": []
    },
    {
      "cell_type": "code",
      "metadata": {
        "id": "RrDWG6LXI5wW"
      },
      "source": [
        "model2.add(Dense(units = 1))"
      ],
      "execution_count": 44,
      "outputs": []
    },
    {
      "cell_type": "markdown",
      "metadata": {
        "id": "fq7e4fF6A1yy"
      },
      "source": [
        "## Part 3 - Training the ANN"
      ]
    },
    {
      "cell_type": "markdown",
      "metadata": {
        "id": "qDeylAs2An25"
      },
      "source": [
        "### Compiling the ANN"
      ]
    },
    {
      "cell_type": "code",
      "metadata": {
        "id": "pesgbWlCAtB4"
      },
      "source": [
        "model1.compile(optimizer = 'adam', loss = 'mean_squared_error' , metrics = \"mean_squared_logarithmic_error\")"
      ],
      "execution_count": 45,
      "outputs": []
    },
    {
      "cell_type": "code",
      "metadata": {
        "id": "fonadk_6JFG-"
      },
      "source": [
        "model2.compile(optimizer = \"adam\" , loss = \"mean_squared_error\" , metrics = \"mean_squared_error\")"
      ],
      "execution_count": 46,
      "outputs": []
    },
    {
      "cell_type": "markdown",
      "metadata": {
        "id": "YjVuiybYOo7r"
      },
      "source": [
        "### Training the ANN model on the Training set"
      ]
    },
    {
      "cell_type": "code",
      "metadata": {
        "id": "c_vV-tiiA5zn",
        "colab": {
          "base_uri": "https://localhost:8080/"
        },
        "outputId": "4b555308-9ac4-4d22-883d-44c9b6214126"
      },
      "source": [
        "h1 = model1.fit(X_train, y_train, batch_size = 32, epochs = 100 , validation_split = 0.1)"
      ],
      "execution_count": 47,
      "outputs": [
        {
          "output_type": "stream",
          "text": [
            "Epoch 1/100\n",
            "216/216 [==============================] - 1s 3ms/step - loss: 119632.1962 - mean_squared_logarithmic_error: 4.3677 - val_loss: 322.7320 - val_mean_squared_logarithmic_error: 0.0015\n",
            "Epoch 2/100\n",
            "216/216 [==============================] - 0s 2ms/step - loss: 286.5409 - mean_squared_logarithmic_error: 0.0014 - val_loss: 272.6526 - val_mean_squared_logarithmic_error: 0.0013\n",
            "Epoch 3/100\n",
            "216/216 [==============================] - 0s 2ms/step - loss: 254.7327 - mean_squared_logarithmic_error: 0.0012 - val_loss: 132.2932 - val_mean_squared_logarithmic_error: 6.2448e-04\n",
            "Epoch 4/100\n",
            "216/216 [==============================] - 0s 2ms/step - loss: 123.4838 - mean_squared_logarithmic_error: 5.8053e-04 - val_loss: 113.9544 - val_mean_squared_logarithmic_error: 5.4134e-04\n",
            "Epoch 5/100\n",
            "216/216 [==============================] - 0s 2ms/step - loss: 108.8598 - mean_squared_logarithmic_error: 5.1360e-04 - val_loss: 107.0639 - val_mean_squared_logarithmic_error: 5.0618e-04\n",
            "Epoch 6/100\n",
            "216/216 [==============================] - 0s 2ms/step - loss: 98.3941 - mean_squared_logarithmic_error: 4.6425e-04 - val_loss: 100.4257 - val_mean_squared_logarithmic_error: 4.7539e-04\n",
            "Epoch 7/100\n",
            "216/216 [==============================] - 0s 2ms/step - loss: 95.4483 - mean_squared_logarithmic_error: 4.4996e-04 - val_loss: 93.4979 - val_mean_squared_logarithmic_error: 4.4125e-04\n",
            "Epoch 8/100\n",
            "216/216 [==============================] - 0s 2ms/step - loss: 88.0193 - mean_squared_logarithmic_error: 4.1437e-04 - val_loss: 86.8856 - val_mean_squared_logarithmic_error: 4.1118e-04\n",
            "Epoch 9/100\n",
            "216/216 [==============================] - 0s 2ms/step - loss: 80.8909 - mean_squared_logarithmic_error: 3.8072e-04 - val_loss: 82.4230 - val_mean_squared_logarithmic_error: 3.9284e-04\n",
            "Epoch 10/100\n",
            "216/216 [==============================] - 0s 2ms/step - loss: 76.5264 - mean_squared_logarithmic_error: 3.6008e-04 - val_loss: 74.6065 - val_mean_squared_logarithmic_error: 3.5184e-04\n",
            "Epoch 11/100\n",
            "216/216 [==============================] - 0s 2ms/step - loss: 69.2035 - mean_squared_logarithmic_error: 3.2629e-04 - val_loss: 69.8275 - val_mean_squared_logarithmic_error: 3.3082e-04\n",
            "Epoch 12/100\n",
            "216/216 [==============================] - 0s 2ms/step - loss: 67.5647 - mean_squared_logarithmic_error: 3.1823e-04 - val_loss: 67.2557 - val_mean_squared_logarithmic_error: 3.2048e-04\n",
            "Epoch 13/100\n",
            "216/216 [==============================] - 0s 1ms/step - loss: 60.9139 - mean_squared_logarithmic_error: 2.8750e-04 - val_loss: 61.6409 - val_mean_squared_logarithmic_error: 2.9215e-04\n",
            "Epoch 14/100\n",
            "216/216 [==============================] - 0s 1ms/step - loss: 59.7278 - mean_squared_logarithmic_error: 2.8192e-04 - val_loss: 58.2069 - val_mean_squared_logarithmic_error: 2.7522e-04\n",
            "Epoch 15/100\n",
            "216/216 [==============================] - 0s 1ms/step - loss: 54.9312 - mean_squared_logarithmic_error: 2.5980e-04 - val_loss: 57.5282 - val_mean_squared_logarithmic_error: 2.7408e-04\n",
            "Epoch 16/100\n",
            "216/216 [==============================] - 0s 2ms/step - loss: 53.1687 - mean_squared_logarithmic_error: 2.5163e-04 - val_loss: 53.3016 - val_mean_squared_logarithmic_error: 2.5263e-04\n",
            "Epoch 17/100\n",
            "216/216 [==============================] - 0s 2ms/step - loss: 52.3551 - mean_squared_logarithmic_error: 2.4749e-04 - val_loss: 51.5769 - val_mean_squared_logarithmic_error: 2.4506e-04\n",
            "Epoch 18/100\n",
            "216/216 [==============================] - 0s 2ms/step - loss: 49.6867 - mean_squared_logarithmic_error: 2.3558e-04 - val_loss: 50.1583 - val_mean_squared_logarithmic_error: 2.3867e-04\n",
            "Epoch 19/100\n",
            "216/216 [==============================] - 0s 2ms/step - loss: 49.2991 - mean_squared_logarithmic_error: 2.3357e-04 - val_loss: 48.8415 - val_mean_squared_logarithmic_error: 2.3263e-04\n",
            "Epoch 20/100\n",
            "216/216 [==============================] - 0s 2ms/step - loss: 48.3851 - mean_squared_logarithmic_error: 2.2967e-04 - val_loss: 46.7799 - val_mean_squared_logarithmic_error: 2.2270e-04\n",
            "Epoch 21/100\n",
            "216/216 [==============================] - 0s 2ms/step - loss: 45.5078 - mean_squared_logarithmic_error: 2.1527e-04 - val_loss: 44.9266 - val_mean_squared_logarithmic_error: 2.1374e-04\n",
            "Epoch 22/100\n",
            "216/216 [==============================] - 0s 2ms/step - loss: 44.6776 - mean_squared_logarithmic_error: 2.1265e-04 - val_loss: 43.2670 - val_mean_squared_logarithmic_error: 2.0565e-04\n",
            "Epoch 23/100\n",
            "216/216 [==============================] - 0s 2ms/step - loss: 44.3383 - mean_squared_logarithmic_error: 2.1029e-04 - val_loss: 44.7249 - val_mean_squared_logarithmic_error: 2.1358e-04\n",
            "Epoch 24/100\n",
            "216/216 [==============================] - 0s 2ms/step - loss: 41.7625 - mean_squared_logarithmic_error: 1.9836e-04 - val_loss: 42.3492 - val_mean_squared_logarithmic_error: 2.0209e-04\n",
            "Epoch 25/100\n",
            "216/216 [==============================] - 0s 2ms/step - loss: 41.6688 - mean_squared_logarithmic_error: 1.9790e-04 - val_loss: 42.8870 - val_mean_squared_logarithmic_error: 2.0503e-04\n",
            "Epoch 26/100\n",
            "216/216 [==============================] - 0s 2ms/step - loss: 40.7331 - mean_squared_logarithmic_error: 1.9348e-04 - val_loss: 41.0796 - val_mean_squared_logarithmic_error: 1.9635e-04\n",
            "Epoch 27/100\n",
            "216/216 [==============================] - 0s 2ms/step - loss: 40.0602 - mean_squared_logarithmic_error: 1.9015e-04 - val_loss: 38.3699 - val_mean_squared_logarithmic_error: 1.8241e-04\n",
            "Epoch 28/100\n",
            "216/216 [==============================] - 0s 2ms/step - loss: 36.8848 - mean_squared_logarithmic_error: 1.7533e-04 - val_loss: 36.8407 - val_mean_squared_logarithmic_error: 1.7530e-04\n",
            "Epoch 29/100\n",
            "216/216 [==============================] - 0s 2ms/step - loss: 38.6500 - mean_squared_logarithmic_error: 1.8402e-04 - val_loss: 35.3276 - val_mean_squared_logarithmic_error: 1.6852e-04\n",
            "Epoch 30/100\n",
            "216/216 [==============================] - 0s 2ms/step - loss: 36.3517 - mean_squared_logarithmic_error: 1.7282e-04 - val_loss: 37.2459 - val_mean_squared_logarithmic_error: 1.7841e-04\n",
            "Epoch 31/100\n",
            "216/216 [==============================] - 0s 2ms/step - loss: 35.4468 - mean_squared_logarithmic_error: 1.6905e-04 - val_loss: 36.7039 - val_mean_squared_logarithmic_error: 1.7595e-04\n",
            "Epoch 32/100\n",
            "216/216 [==============================] - 0s 2ms/step - loss: 35.7232 - mean_squared_logarithmic_error: 1.7049e-04 - val_loss: 36.4981 - val_mean_squared_logarithmic_error: 1.7512e-04\n",
            "Epoch 33/100\n",
            "216/216 [==============================] - 0s 2ms/step - loss: 35.6113 - mean_squared_logarithmic_error: 1.6928e-04 - val_loss: 31.9897 - val_mean_squared_logarithmic_error: 1.5283e-04\n",
            "Epoch 34/100\n",
            "216/216 [==============================] - 0s 2ms/step - loss: 32.7500 - mean_squared_logarithmic_error: 1.5559e-04 - val_loss: 31.5068 - val_mean_squared_logarithmic_error: 1.5042e-04\n",
            "Epoch 35/100\n",
            "216/216 [==============================] - 0s 2ms/step - loss: 32.6359 - mean_squared_logarithmic_error: 1.5552e-04 - val_loss: 30.5331 - val_mean_squared_logarithmic_error: 1.4599e-04\n",
            "Epoch 36/100\n",
            "216/216 [==============================] - 0s 2ms/step - loss: 32.6780 - mean_squared_logarithmic_error: 1.5547e-04 - val_loss: 30.1530 - val_mean_squared_logarithmic_error: 1.4407e-04\n",
            "Epoch 37/100\n",
            "216/216 [==============================] - 0s 1ms/step - loss: 31.2614 - mean_squared_logarithmic_error: 1.4889e-04 - val_loss: 29.3724 - val_mean_squared_logarithmic_error: 1.4064e-04\n",
            "Epoch 38/100\n",
            "216/216 [==============================] - 0s 2ms/step - loss: 32.3668 - mean_squared_logarithmic_error: 1.5413e-04 - val_loss: 33.4146 - val_mean_squared_logarithmic_error: 1.6089e-04\n",
            "Epoch 39/100\n",
            "216/216 [==============================] - 0s 2ms/step - loss: 31.9108 - mean_squared_logarithmic_error: 1.5182e-04 - val_loss: 28.5891 - val_mean_squared_logarithmic_error: 1.3713e-04\n",
            "Epoch 40/100\n",
            "216/216 [==============================] - 0s 2ms/step - loss: 30.0237 - mean_squared_logarithmic_error: 1.4277e-04 - val_loss: 29.1977 - val_mean_squared_logarithmic_error: 1.4038e-04\n",
            "Epoch 41/100\n",
            "216/216 [==============================] - 0s 2ms/step - loss: 29.5365 - mean_squared_logarithmic_error: 1.4058e-04 - val_loss: 28.5483 - val_mean_squared_logarithmic_error: 1.3675e-04\n",
            "Epoch 42/100\n",
            "216/216 [==============================] - 0s 2ms/step - loss: 30.6170 - mean_squared_logarithmic_error: 1.4593e-04 - val_loss: 30.3580 - val_mean_squared_logarithmic_error: 1.4633e-04\n",
            "Epoch 43/100\n",
            "216/216 [==============================] - 0s 2ms/step - loss: 28.9571 - mean_squared_logarithmic_error: 1.3807e-04 - val_loss: 30.4530 - val_mean_squared_logarithmic_error: 1.4603e-04\n",
            "Epoch 44/100\n",
            "216/216 [==============================] - 0s 2ms/step - loss: 29.4768 - mean_squared_logarithmic_error: 1.4035e-04 - val_loss: 27.6457 - val_mean_squared_logarithmic_error: 1.3311e-04\n",
            "Epoch 45/100\n",
            "216/216 [==============================] - 0s 2ms/step - loss: 28.9273 - mean_squared_logarithmic_error: 1.3794e-04 - val_loss: 26.6024 - val_mean_squared_logarithmic_error: 1.2783e-04\n",
            "Epoch 46/100\n",
            "216/216 [==============================] - 0s 2ms/step - loss: 29.0179 - mean_squared_logarithmic_error: 1.3846e-04 - val_loss: 26.4231 - val_mean_squared_logarithmic_error: 1.2705e-04\n",
            "Epoch 47/100\n",
            "216/216 [==============================] - 0s 2ms/step - loss: 28.4006 - mean_squared_logarithmic_error: 1.3531e-04 - val_loss: 26.2735 - val_mean_squared_logarithmic_error: 1.2630e-04\n",
            "Epoch 48/100\n",
            "216/216 [==============================] - 0s 2ms/step - loss: 27.8046 - mean_squared_logarithmic_error: 1.3272e-04 - val_loss: 27.5748 - val_mean_squared_logarithmic_error: 1.3259e-04\n",
            "Epoch 49/100\n",
            "216/216 [==============================] - 0s 2ms/step - loss: 28.2552 - mean_squared_logarithmic_error: 1.3484e-04 - val_loss: 25.9983 - val_mean_squared_logarithmic_error: 1.2511e-04\n",
            "Epoch 50/100\n",
            "216/216 [==============================] - 0s 1ms/step - loss: 27.1352 - mean_squared_logarithmic_error: 1.2939e-04 - val_loss: 25.8014 - val_mean_squared_logarithmic_error: 1.2428e-04\n",
            "Epoch 51/100\n",
            "216/216 [==============================] - 0s 2ms/step - loss: 27.5165 - mean_squared_logarithmic_error: 1.3150e-04 - val_loss: 32.0934 - val_mean_squared_logarithmic_error: 1.5460e-04\n",
            "Epoch 52/100\n",
            "216/216 [==============================] - 0s 2ms/step - loss: 28.7697 - mean_squared_logarithmic_error: 1.3730e-04 - val_loss: 29.2002 - val_mean_squared_logarithmic_error: 1.4121e-04\n",
            "Epoch 53/100\n",
            "216/216 [==============================] - 0s 2ms/step - loss: 29.1412 - mean_squared_logarithmic_error: 1.3902e-04 - val_loss: 29.3396 - val_mean_squared_logarithmic_error: 1.4126e-04\n",
            "Epoch 54/100\n",
            "216/216 [==============================] - 0s 2ms/step - loss: 27.3781 - mean_squared_logarithmic_error: 1.3078e-04 - val_loss: 25.6917 - val_mean_squared_logarithmic_error: 1.2397e-04\n",
            "Epoch 55/100\n",
            "216/216 [==============================] - 0s 2ms/step - loss: 26.9846 - mean_squared_logarithmic_error: 1.2850e-04 - val_loss: 25.5957 - val_mean_squared_logarithmic_error: 1.2355e-04\n",
            "Epoch 56/100\n",
            "216/216 [==============================] - 0s 1ms/step - loss: 28.3796 - mean_squared_logarithmic_error: 1.3588e-04 - val_loss: 26.4914 - val_mean_squared_logarithmic_error: 1.2806e-04\n",
            "Epoch 57/100\n",
            "216/216 [==============================] - 0s 1ms/step - loss: 29.0621 - mean_squared_logarithmic_error: 1.3904e-04 - val_loss: 26.0247 - val_mean_squared_logarithmic_error: 1.2548e-04\n",
            "Epoch 58/100\n",
            "216/216 [==============================] - 0s 2ms/step - loss: 27.2443 - mean_squared_logarithmic_error: 1.3014e-04 - val_loss: 27.7294 - val_mean_squared_logarithmic_error: 1.3360e-04\n",
            "Epoch 59/100\n",
            "216/216 [==============================] - 0s 2ms/step - loss: 27.8913 - mean_squared_logarithmic_error: 1.3340e-04 - val_loss: 27.1524 - val_mean_squared_logarithmic_error: 1.3137e-04\n",
            "Epoch 60/100\n",
            "216/216 [==============================] - 0s 2ms/step - loss: 28.4222 - mean_squared_logarithmic_error: 1.3566e-04 - val_loss: 25.3253 - val_mean_squared_logarithmic_error: 1.2216e-04\n",
            "Epoch 61/100\n",
            "216/216 [==============================] - 0s 2ms/step - loss: 28.3466 - mean_squared_logarithmic_error: 1.3562e-04 - val_loss: 25.9192 - val_mean_squared_logarithmic_error: 1.2536e-04\n",
            "Epoch 62/100\n",
            "216/216 [==============================] - 0s 2ms/step - loss: 27.2431 - mean_squared_logarithmic_error: 1.3053e-04 - val_loss: 25.2173 - val_mean_squared_logarithmic_error: 1.2174e-04\n",
            "Epoch 63/100\n",
            "216/216 [==============================] - 0s 2ms/step - loss: 26.9570 - mean_squared_logarithmic_error: 1.2896e-04 - val_loss: 25.3970 - val_mean_squared_logarithmic_error: 1.2276e-04\n",
            "Epoch 64/100\n",
            "216/216 [==============================] - 0s 2ms/step - loss: 27.0534 - mean_squared_logarithmic_error: 1.2944e-04 - val_loss: 28.3998 - val_mean_squared_logarithmic_error: 1.3755e-04\n",
            "Epoch 65/100\n",
            "216/216 [==============================] - 0s 1ms/step - loss: 27.8651 - mean_squared_logarithmic_error: 1.3311e-04 - val_loss: 25.1438 - val_mean_squared_logarithmic_error: 1.2145e-04\n",
            "Epoch 66/100\n",
            "216/216 [==============================] - 0s 2ms/step - loss: 26.7497 - mean_squared_logarithmic_error: 1.2778e-04 - val_loss: 31.7044 - val_mean_squared_logarithmic_error: 1.5359e-04\n",
            "Epoch 67/100\n",
            "216/216 [==============================] - 0s 2ms/step - loss: 27.5670 - mean_squared_logarithmic_error: 1.3210e-04 - val_loss: 27.0909 - val_mean_squared_logarithmic_error: 1.3069e-04\n",
            "Epoch 68/100\n",
            "216/216 [==============================] - 0s 2ms/step - loss: 26.5082 - mean_squared_logarithmic_error: 1.2682e-04 - val_loss: 25.4230 - val_mean_squared_logarithmic_error: 1.2287e-04\n",
            "Epoch 69/100\n",
            "216/216 [==============================] - 0s 2ms/step - loss: 27.5146 - mean_squared_logarithmic_error: 1.3199e-04 - val_loss: 25.2142 - val_mean_squared_logarithmic_error: 1.2196e-04\n",
            "Epoch 70/100\n",
            "216/216 [==============================] - 0s 2ms/step - loss: 27.9735 - mean_squared_logarithmic_error: 1.3330e-04 - val_loss: 26.0393 - val_mean_squared_logarithmic_error: 1.2567e-04\n",
            "Epoch 71/100\n",
            "216/216 [==============================] - 0s 2ms/step - loss: 27.6714 - mean_squared_logarithmic_error: 1.3228e-04 - val_loss: 28.0646 - val_mean_squared_logarithmic_error: 1.3598e-04\n",
            "Epoch 72/100\n",
            "216/216 [==============================] - 0s 2ms/step - loss: 26.7948 - mean_squared_logarithmic_error: 1.2879e-04 - val_loss: 25.4059 - val_mean_squared_logarithmic_error: 1.2297e-04\n",
            "Epoch 73/100\n",
            "216/216 [==============================] - 0s 2ms/step - loss: 28.5314 - mean_squared_logarithmic_error: 1.3631e-04 - val_loss: 25.9276 - val_mean_squared_logarithmic_error: 1.2531e-04\n",
            "Epoch 74/100\n",
            "216/216 [==============================] - 0s 2ms/step - loss: 28.0309 - mean_squared_logarithmic_error: 1.3425e-04 - val_loss: 28.3760 - val_mean_squared_logarithmic_error: 1.3753e-04\n",
            "Epoch 75/100\n",
            "216/216 [==============================] - 0s 2ms/step - loss: 27.3733 - mean_squared_logarithmic_error: 1.3076e-04 - val_loss: 25.1923 - val_mean_squared_logarithmic_error: 1.2172e-04\n",
            "Epoch 76/100\n",
            "216/216 [==============================] - 0s 1ms/step - loss: 26.5131 - mean_squared_logarithmic_error: 1.2657e-04 - val_loss: 25.1662 - val_mean_squared_logarithmic_error: 1.2173e-04\n",
            "Epoch 77/100\n",
            "216/216 [==============================] - 0s 1ms/step - loss: 27.6058 - mean_squared_logarithmic_error: 1.3205e-04 - val_loss: 26.6975 - val_mean_squared_logarithmic_error: 1.2891e-04\n",
            "Epoch 78/100\n",
            "216/216 [==============================] - 0s 1ms/step - loss: 27.7291 - mean_squared_logarithmic_error: 1.3206e-04 - val_loss: 25.2109 - val_mean_squared_logarithmic_error: 1.2177e-04\n",
            "Epoch 79/100\n",
            "216/216 [==============================] - 0s 1ms/step - loss: 26.5602 - mean_squared_logarithmic_error: 1.2728e-04 - val_loss: 30.0439 - val_mean_squared_logarithmic_error: 1.4561e-04\n",
            "Epoch 80/100\n",
            "216/216 [==============================] - 0s 1ms/step - loss: 26.4304 - mean_squared_logarithmic_error: 1.2624e-04 - val_loss: 27.2780 - val_mean_squared_logarithmic_error: 1.3173e-04\n",
            "Epoch 81/100\n",
            "216/216 [==============================] - 0s 2ms/step - loss: 26.9814 - mean_squared_logarithmic_error: 1.2885e-04 - val_loss: 25.0600 - val_mean_squared_logarithmic_error: 1.2120e-04\n",
            "Epoch 82/100\n",
            "216/216 [==============================] - 0s 2ms/step - loss: 28.1779 - mean_squared_logarithmic_error: 1.3457e-04 - val_loss: 25.2381 - val_mean_squared_logarithmic_error: 1.2202e-04\n",
            "Epoch 83/100\n",
            "216/216 [==============================] - 0s 2ms/step - loss: 27.0293 - mean_squared_logarithmic_error: 1.2897e-04 - val_loss: 26.0372 - val_mean_squared_logarithmic_error: 1.2571e-04\n",
            "Epoch 84/100\n",
            "216/216 [==============================] - 0s 2ms/step - loss: 26.6024 - mean_squared_logarithmic_error: 1.2723e-04 - val_loss: 31.0781 - val_mean_squared_logarithmic_error: 1.5022e-04\n",
            "Epoch 85/100\n",
            "216/216 [==============================] - 0s 2ms/step - loss: 27.1702 - mean_squared_logarithmic_error: 1.2994e-04 - val_loss: 25.3066 - val_mean_squared_logarithmic_error: 1.2240e-04\n",
            "Epoch 86/100\n",
            "216/216 [==============================] - 0s 2ms/step - loss: 25.6576 - mean_squared_logarithmic_error: 1.2320e-04 - val_loss: 25.2255 - val_mean_squared_logarithmic_error: 1.2200e-04\n",
            "Epoch 87/100\n",
            "216/216 [==============================] - 0s 2ms/step - loss: 27.4871 - mean_squared_logarithmic_error: 1.3159e-04 - val_loss: 25.6708 - val_mean_squared_logarithmic_error: 1.2429e-04\n",
            "Epoch 88/100\n",
            "216/216 [==============================] - 0s 2ms/step - loss: 26.6254 - mean_squared_logarithmic_error: 1.2735e-04 - val_loss: 27.5378 - val_mean_squared_logarithmic_error: 1.3348e-04\n",
            "Epoch 89/100\n",
            "216/216 [==============================] - 0s 2ms/step - loss: 27.1350 - mean_squared_logarithmic_error: 1.2995e-04 - val_loss: 31.1720 - val_mean_squared_logarithmic_error: 1.5117e-04\n",
            "Epoch 90/100\n",
            "216/216 [==============================] - 0s 2ms/step - loss: 28.4182 - mean_squared_logarithmic_error: 1.3588e-04 - val_loss: 25.6186 - val_mean_squared_logarithmic_error: 1.2409e-04\n",
            "Epoch 91/100\n",
            "216/216 [==============================] - 0s 2ms/step - loss: 27.3317 - mean_squared_logarithmic_error: 1.3069e-04 - val_loss: 31.7709 - val_mean_squared_logarithmic_error: 1.5404e-04\n",
            "Epoch 92/100\n",
            "216/216 [==============================] - 0s 2ms/step - loss: 28.0800 - mean_squared_logarithmic_error: 1.3431e-04 - val_loss: 27.5318 - val_mean_squared_logarithmic_error: 1.3305e-04\n",
            "Epoch 93/100\n",
            "216/216 [==============================] - 0s 2ms/step - loss: 27.9342 - mean_squared_logarithmic_error: 1.3332e-04 - val_loss: 34.4256 - val_mean_squared_logarithmic_error: 1.6682e-04\n",
            "Epoch 94/100\n",
            "216/216 [==============================] - 0s 2ms/step - loss: 26.9038 - mean_squared_logarithmic_error: 1.2849e-04 - val_loss: 26.2478 - val_mean_squared_logarithmic_error: 1.2718e-04\n",
            "Epoch 95/100\n",
            "216/216 [==============================] - 0s 2ms/step - loss: 26.7195 - mean_squared_logarithmic_error: 1.2779e-04 - val_loss: 28.4180 - val_mean_squared_logarithmic_error: 1.3779e-04\n",
            "Epoch 96/100\n",
            "216/216 [==============================] - 0s 2ms/step - loss: 28.1272 - mean_squared_logarithmic_error: 1.3487e-04 - val_loss: 25.3459 - val_mean_squared_logarithmic_error: 1.2265e-04\n",
            "Epoch 97/100\n",
            "216/216 [==============================] - 0s 2ms/step - loss: 25.9385 - mean_squared_logarithmic_error: 1.2449e-04 - val_loss: 30.0536 - val_mean_squared_logarithmic_error: 1.4569e-04\n",
            "Epoch 98/100\n",
            "216/216 [==============================] - 0s 2ms/step - loss: 26.6087 - mean_squared_logarithmic_error: 1.2741e-04 - val_loss: 25.0433 - val_mean_squared_logarithmic_error: 1.2119e-04\n",
            "Epoch 99/100\n",
            "216/216 [==============================] - 0s 2ms/step - loss: 27.0194 - mean_squared_logarithmic_error: 1.2899e-04 - val_loss: 27.1521 - val_mean_squared_logarithmic_error: 1.3110e-04\n",
            "Epoch 100/100\n",
            "216/216 [==============================] - 0s 2ms/step - loss: 27.2224 - mean_squared_logarithmic_error: 1.3010e-04 - val_loss: 26.6753 - val_mean_squared_logarithmic_error: 1.2928e-04\n"
          ],
          "name": "stdout"
        }
      ]
    },
    {
      "cell_type": "code",
      "metadata": {
        "colab": {
          "base_uri": "https://localhost:8080/"
        },
        "id": "NOC8HtvOIEHQ",
        "outputId": "875f3848-cfa0-4620-dae5-ea45b16c7633"
      },
      "source": [
        "h2 = model2.fit(X_train, y_train, batch_size = 32, epochs = 100 , validation_split = 0.1)"
      ],
      "execution_count": 48,
      "outputs": [
        {
          "output_type": "stream",
          "text": [
            "Epoch 1/100\n",
            "216/216 [==============================] - 1s 2ms/step - loss: 318150.4090 - mean_squared_error: 318150.4090 - val_loss: 243435.6719 - val_mean_squared_error: 243435.6719\n",
            "Epoch 2/100\n",
            "216/216 [==============================] - 0s 2ms/step - loss: 234798.7614 - mean_squared_error: 234798.7614 - val_loss: 216033.2812 - val_mean_squared_error: 216033.2812\n",
            "Epoch 3/100\n",
            "216/216 [==============================] - 0s 2ms/step - loss: 214085.8101 - mean_squared_error: 214085.8101 - val_loss: 207203.9062 - val_mean_squared_error: 207203.9062\n",
            "Epoch 4/100\n",
            "216/216 [==============================] - 0s 1ms/step - loss: 206457.9072 - mean_squared_error: 206457.9072 - val_loss: 200662.7031 - val_mean_squared_error: 200662.7031\n",
            "Epoch 5/100\n",
            "216/216 [==============================] - 0s 1ms/step - loss: 197278.5086 - mean_squared_error: 197278.5086 - val_loss: 172131.9219 - val_mean_squared_error: 172131.9219\n",
            "Epoch 6/100\n",
            "216/216 [==============================] - 0s 2ms/step - loss: 143292.5141 - mean_squared_error: 143292.5141 - val_loss: 19007.5645 - val_mean_squared_error: 19007.5645\n",
            "Epoch 7/100\n",
            "216/216 [==============================] - 0s 2ms/step - loss: 7162.9335 - mean_squared_error: 7162.9335 - val_loss: 290.4842 - val_mean_squared_error: 290.4842\n",
            "Epoch 8/100\n",
            "216/216 [==============================] - 0s 2ms/step - loss: 282.8233 - mean_squared_error: 282.8233 - val_loss: 286.8070 - val_mean_squared_error: 286.8070\n",
            "Epoch 9/100\n",
            "216/216 [==============================] - 0s 1ms/step - loss: 281.3084 - mean_squared_error: 281.3084 - val_loss: 281.7048 - val_mean_squared_error: 281.7048\n",
            "Epoch 10/100\n",
            "216/216 [==============================] - 0s 1ms/step - loss: 278.2005 - mean_squared_error: 278.2005 - val_loss: 276.1804 - val_mean_squared_error: 276.1804\n",
            "Epoch 11/100\n",
            "216/216 [==============================] - 0s 2ms/step - loss: 276.0639 - mean_squared_error: 276.0639 - val_loss: 270.5310 - val_mean_squared_error: 270.5310\n",
            "Epoch 12/100\n",
            "216/216 [==============================] - 0s 1ms/step - loss: 268.7167 - mean_squared_error: 268.7167 - val_loss: 264.1812 - val_mean_squared_error: 264.1812\n",
            "Epoch 13/100\n",
            "216/216 [==============================] - 0s 1ms/step - loss: 257.1006 - mean_squared_error: 257.1006 - val_loss: 258.1306 - val_mean_squared_error: 258.1306\n",
            "Epoch 14/100\n",
            "216/216 [==============================] - 0s 2ms/step - loss: 248.1648 - mean_squared_error: 248.1648 - val_loss: 250.5671 - val_mean_squared_error: 250.5671\n",
            "Epoch 15/100\n",
            "216/216 [==============================] - 0s 1ms/step - loss: 242.3184 - mean_squared_error: 242.3184 - val_loss: 243.1759 - val_mean_squared_error: 243.1759\n",
            "Epoch 16/100\n",
            "216/216 [==============================] - 0s 1ms/step - loss: 238.2423 - mean_squared_error: 238.2423 - val_loss: 233.3938 - val_mean_squared_error: 233.3938\n",
            "Epoch 17/100\n",
            "216/216 [==============================] - 0s 1ms/step - loss: 227.6016 - mean_squared_error: 227.6016 - val_loss: 224.6873 - val_mean_squared_error: 224.6873\n",
            "Epoch 18/100\n",
            "216/216 [==============================] - 0s 1ms/step - loss: 215.4158 - mean_squared_error: 215.4158 - val_loss: 215.9094 - val_mean_squared_error: 215.9094\n",
            "Epoch 19/100\n",
            "216/216 [==============================] - 0s 2ms/step - loss: 205.5106 - mean_squared_error: 205.5106 - val_loss: 204.7299 - val_mean_squared_error: 204.7299\n",
            "Epoch 20/100\n",
            "216/216 [==============================] - 0s 2ms/step - loss: 196.4700 - mean_squared_error: 196.4700 - val_loss: 194.1310 - val_mean_squared_error: 194.1310\n",
            "Epoch 21/100\n",
            "216/216 [==============================] - 0s 2ms/step - loss: 188.7890 - mean_squared_error: 188.7890 - val_loss: 183.0354 - val_mean_squared_error: 183.0354\n",
            "Epoch 22/100\n",
            "216/216 [==============================] - 0s 2ms/step - loss: 173.5321 - mean_squared_error: 173.5321 - val_loss: 173.6188 - val_mean_squared_error: 173.6188\n",
            "Epoch 23/100\n",
            "216/216 [==============================] - 0s 2ms/step - loss: 161.6878 - mean_squared_error: 161.6878 - val_loss: 160.2321 - val_mean_squared_error: 160.2321\n",
            "Epoch 24/100\n",
            "216/216 [==============================] - 0s 2ms/step - loss: 152.7644 - mean_squared_error: 152.7644 - val_loss: 149.7778 - val_mean_squared_error: 149.7778\n",
            "Epoch 25/100\n",
            "216/216 [==============================] - 0s 2ms/step - loss: 139.6326 - mean_squared_error: 139.6326 - val_loss: 138.1162 - val_mean_squared_error: 138.1162\n",
            "Epoch 26/100\n",
            "216/216 [==============================] - 0s 2ms/step - loss: 131.7002 - mean_squared_error: 131.7002 - val_loss: 127.7687 - val_mean_squared_error: 127.7687\n",
            "Epoch 27/100\n",
            "216/216 [==============================] - 0s 1ms/step - loss: 119.4343 - mean_squared_error: 119.4343 - val_loss: 115.2638 - val_mean_squared_error: 115.2638\n",
            "Epoch 28/100\n",
            "216/216 [==============================] - 0s 1ms/step - loss: 110.0946 - mean_squared_error: 110.0946 - val_loss: 104.9887 - val_mean_squared_error: 104.9887\n",
            "Epoch 29/100\n",
            "216/216 [==============================] - 0s 2ms/step - loss: 100.0807 - mean_squared_error: 100.0807 - val_loss: 96.4370 - val_mean_squared_error: 96.4370\n",
            "Epoch 30/100\n",
            "216/216 [==============================] - 0s 1ms/step - loss: 89.3296 - mean_squared_error: 89.3296 - val_loss: 86.5139 - val_mean_squared_error: 86.5139\n",
            "Epoch 31/100\n",
            "216/216 [==============================] - 0s 2ms/step - loss: 81.5483 - mean_squared_error: 81.5483 - val_loss: 80.1050 - val_mean_squared_error: 80.1050\n",
            "Epoch 32/100\n",
            "216/216 [==============================] - 0s 2ms/step - loss: 73.8071 - mean_squared_error: 73.8071 - val_loss: 70.9543 - val_mean_squared_error: 70.9543\n",
            "Epoch 33/100\n",
            "216/216 [==============================] - 0s 2ms/step - loss: 65.7422 - mean_squared_error: 65.7422 - val_loss: 64.6682 - val_mean_squared_error: 64.6682\n",
            "Epoch 34/100\n",
            "216/216 [==============================] - 0s 2ms/step - loss: 60.8494 - mean_squared_error: 60.8494 - val_loss: 59.1458 - val_mean_squared_error: 59.1458\n",
            "Epoch 35/100\n",
            "216/216 [==============================] - 0s 2ms/step - loss: 54.6498 - mean_squared_error: 54.6498 - val_loss: 54.9153 - val_mean_squared_error: 54.9153\n",
            "Epoch 36/100\n",
            "216/216 [==============================] - 0s 2ms/step - loss: 50.6367 - mean_squared_error: 50.6367 - val_loss: 51.1497 - val_mean_squared_error: 51.1497\n",
            "Epoch 37/100\n",
            "216/216 [==============================] - 0s 2ms/step - loss: 47.5368 - mean_squared_error: 47.5368 - val_loss: 46.3354 - val_mean_squared_error: 46.3354\n",
            "Epoch 38/100\n",
            "216/216 [==============================] - 0s 2ms/step - loss: 44.0538 - mean_squared_error: 44.0538 - val_loss: 45.4243 - val_mean_squared_error: 45.4243\n",
            "Epoch 39/100\n",
            "216/216 [==============================] - 0s 2ms/step - loss: 41.6913 - mean_squared_error: 41.6913 - val_loss: 40.8487 - val_mean_squared_error: 40.8487\n",
            "Epoch 40/100\n",
            "216/216 [==============================] - 0s 1ms/step - loss: 39.2996 - mean_squared_error: 39.2996 - val_loss: 38.7216 - val_mean_squared_error: 38.7216\n",
            "Epoch 41/100\n",
            "216/216 [==============================] - 0s 2ms/step - loss: 36.6640 - mean_squared_error: 36.6640 - val_loss: 36.7010 - val_mean_squared_error: 36.7010\n",
            "Epoch 42/100\n",
            "216/216 [==============================] - 0s 2ms/step - loss: 35.7505 - mean_squared_error: 35.7505 - val_loss: 35.9227 - val_mean_squared_error: 35.9227\n",
            "Epoch 43/100\n",
            "216/216 [==============================] - 0s 2ms/step - loss: 34.0810 - mean_squared_error: 34.0810 - val_loss: 33.9572 - val_mean_squared_error: 33.9572\n",
            "Epoch 44/100\n",
            "216/216 [==============================] - 0s 2ms/step - loss: 34.6348 - mean_squared_error: 34.6348 - val_loss: 32.6199 - val_mean_squared_error: 32.6199\n",
            "Epoch 45/100\n",
            "216/216 [==============================] - 0s 2ms/step - loss: 33.5232 - mean_squared_error: 33.5232 - val_loss: 31.8193 - val_mean_squared_error: 31.8193\n",
            "Epoch 46/100\n",
            "216/216 [==============================] - 0s 2ms/step - loss: 31.8342 - mean_squared_error: 31.8342 - val_loss: 30.9483 - val_mean_squared_error: 30.9483\n",
            "Epoch 47/100\n",
            "216/216 [==============================] - 0s 2ms/step - loss: 31.4418 - mean_squared_error: 31.4418 - val_loss: 30.1958 - val_mean_squared_error: 30.1958\n",
            "Epoch 48/100\n",
            "216/216 [==============================] - 0s 2ms/step - loss: 30.4607 - mean_squared_error: 30.4607 - val_loss: 29.6443 - val_mean_squared_error: 29.6443\n",
            "Epoch 49/100\n",
            "216/216 [==============================] - 0s 2ms/step - loss: 30.0049 - mean_squared_error: 30.0049 - val_loss: 29.1820 - val_mean_squared_error: 29.1820\n",
            "Epoch 50/100\n",
            "216/216 [==============================] - 0s 2ms/step - loss: 29.7306 - mean_squared_error: 29.7306 - val_loss: 29.0308 - val_mean_squared_error: 29.0308\n",
            "Epoch 51/100\n",
            "216/216 [==============================] - 0s 2ms/step - loss: 29.5074 - mean_squared_error: 29.5074 - val_loss: 28.5493 - val_mean_squared_error: 28.5493\n",
            "Epoch 52/100\n",
            "216/216 [==============================] - 0s 2ms/step - loss: 29.3616 - mean_squared_error: 29.3616 - val_loss: 28.1175 - val_mean_squared_error: 28.1175\n",
            "Epoch 53/100\n",
            "216/216 [==============================] - 0s 2ms/step - loss: 30.9030 - mean_squared_error: 30.9030 - val_loss: 28.6122 - val_mean_squared_error: 28.6122\n",
            "Epoch 54/100\n",
            "216/216 [==============================] - 0s 2ms/step - loss: 28.1947 - mean_squared_error: 28.1947 - val_loss: 28.2014 - val_mean_squared_error: 28.2014\n",
            "Epoch 55/100\n",
            "216/216 [==============================] - 0s 2ms/step - loss: 28.2201 - mean_squared_error: 28.2201 - val_loss: 27.8040 - val_mean_squared_error: 27.8040\n",
            "Epoch 56/100\n",
            "216/216 [==============================] - 0s 1ms/step - loss: 29.5147 - mean_squared_error: 29.5147 - val_loss: 27.2011 - val_mean_squared_error: 27.2011\n",
            "Epoch 57/100\n",
            "216/216 [==============================] - 0s 1ms/step - loss: 29.2501 - mean_squared_error: 29.2501 - val_loss: 28.0468 - val_mean_squared_error: 28.0468\n",
            "Epoch 58/100\n",
            "216/216 [==============================] - 0s 1ms/step - loss: 29.5166 - mean_squared_error: 29.5166 - val_loss: 26.8578 - val_mean_squared_error: 26.8578\n",
            "Epoch 59/100\n",
            "216/216 [==============================] - 0s 2ms/step - loss: 27.9383 - mean_squared_error: 27.9383 - val_loss: 26.7344 - val_mean_squared_error: 26.7344\n",
            "Epoch 60/100\n",
            "216/216 [==============================] - 0s 2ms/step - loss: 27.8593 - mean_squared_error: 27.8593 - val_loss: 26.5830 - val_mean_squared_error: 26.5830\n",
            "Epoch 61/100\n",
            "216/216 [==============================] - 0s 2ms/step - loss: 28.4319 - mean_squared_error: 28.4319 - val_loss: 26.6025 - val_mean_squared_error: 26.6025\n",
            "Epoch 62/100\n",
            "216/216 [==============================] - 0s 2ms/step - loss: 27.5002 - mean_squared_error: 27.5002 - val_loss: 26.8946 - val_mean_squared_error: 26.8946\n",
            "Epoch 63/100\n",
            "216/216 [==============================] - 0s 2ms/step - loss: 28.1371 - mean_squared_error: 28.1371 - val_loss: 27.4251 - val_mean_squared_error: 27.4251\n",
            "Epoch 64/100\n",
            "216/216 [==============================] - 0s 2ms/step - loss: 27.0808 - mean_squared_error: 27.0808 - val_loss: 27.1941 - val_mean_squared_error: 27.1941\n",
            "Epoch 65/100\n",
            "216/216 [==============================] - 0s 2ms/step - loss: 27.8332 - mean_squared_error: 27.8332 - val_loss: 26.2559 - val_mean_squared_error: 26.2559\n",
            "Epoch 66/100\n",
            "216/216 [==============================] - 0s 2ms/step - loss: 26.6288 - mean_squared_error: 26.6288 - val_loss: 26.0910 - val_mean_squared_error: 26.0910\n",
            "Epoch 67/100\n",
            "216/216 [==============================] - 0s 2ms/step - loss: 27.6072 - mean_squared_error: 27.6072 - val_loss: 25.8544 - val_mean_squared_error: 25.8544\n",
            "Epoch 68/100\n",
            "216/216 [==============================] - 0s 2ms/step - loss: 26.2811 - mean_squared_error: 26.2811 - val_loss: 26.5802 - val_mean_squared_error: 26.5802\n",
            "Epoch 69/100\n",
            "216/216 [==============================] - 0s 2ms/step - loss: 27.8128 - mean_squared_error: 27.8128 - val_loss: 25.8404 - val_mean_squared_error: 25.8404\n",
            "Epoch 70/100\n",
            "216/216 [==============================] - 0s 2ms/step - loss: 26.7953 - mean_squared_error: 26.7953 - val_loss: 26.3261 - val_mean_squared_error: 26.3261\n",
            "Epoch 71/100\n",
            "216/216 [==============================] - 0s 2ms/step - loss: 27.4879 - mean_squared_error: 27.4879 - val_loss: 25.6503 - val_mean_squared_error: 25.6503\n",
            "Epoch 72/100\n",
            "216/216 [==============================] - 0s 2ms/step - loss: 28.0470 - mean_squared_error: 28.0470 - val_loss: 25.9674 - val_mean_squared_error: 25.9674\n",
            "Epoch 73/100\n",
            "216/216 [==============================] - 0s 2ms/step - loss: 26.7503 - mean_squared_error: 26.7503 - val_loss: 25.6094 - val_mean_squared_error: 25.6094\n",
            "Epoch 74/100\n",
            "216/216 [==============================] - 0s 2ms/step - loss: 26.4326 - mean_squared_error: 26.4326 - val_loss: 26.4236 - val_mean_squared_error: 26.4236\n",
            "Epoch 75/100\n",
            "216/216 [==============================] - 0s 2ms/step - loss: 26.8212 - mean_squared_error: 26.8212 - val_loss: 26.2363 - val_mean_squared_error: 26.2363\n",
            "Epoch 76/100\n",
            "216/216 [==============================] - 0s 2ms/step - loss: 27.7727 - mean_squared_error: 27.7727 - val_loss: 26.2163 - val_mean_squared_error: 26.2163\n",
            "Epoch 77/100\n",
            "216/216 [==============================] - 0s 2ms/step - loss: 26.9095 - mean_squared_error: 26.9095 - val_loss: 25.3935 - val_mean_squared_error: 25.3935\n",
            "Epoch 78/100\n",
            "216/216 [==============================] - 0s 1ms/step - loss: 27.0310 - mean_squared_error: 27.0310 - val_loss: 25.4096 - val_mean_squared_error: 25.4096\n",
            "Epoch 79/100\n",
            "216/216 [==============================] - 0s 2ms/step - loss: 25.7404 - mean_squared_error: 25.7404 - val_loss: 26.8385 - val_mean_squared_error: 26.8385\n",
            "Epoch 80/100\n",
            "216/216 [==============================] - 0s 2ms/step - loss: 27.3794 - mean_squared_error: 27.3794 - val_loss: 26.7551 - val_mean_squared_error: 26.7551\n",
            "Epoch 81/100\n",
            "216/216 [==============================] - 0s 2ms/step - loss: 26.5448 - mean_squared_error: 26.5448 - val_loss: 25.2803 - val_mean_squared_error: 25.2803\n",
            "Epoch 82/100\n",
            "216/216 [==============================] - 0s 2ms/step - loss: 27.2983 - mean_squared_error: 27.2983 - val_loss: 26.3308 - val_mean_squared_error: 26.3308\n",
            "Epoch 83/100\n",
            "216/216 [==============================] - 0s 2ms/step - loss: 25.6399 - mean_squared_error: 25.6399 - val_loss: 25.2096 - val_mean_squared_error: 25.2096\n",
            "Epoch 84/100\n",
            "216/216 [==============================] - 0s 2ms/step - loss: 26.2762 - mean_squared_error: 26.2762 - val_loss: 25.9092 - val_mean_squared_error: 25.9092\n",
            "Epoch 85/100\n",
            "216/216 [==============================] - 0s 2ms/step - loss: 26.5103 - mean_squared_error: 26.5103 - val_loss: 25.2182 - val_mean_squared_error: 25.2182\n",
            "Epoch 86/100\n",
            "216/216 [==============================] - 0s 2ms/step - loss: 26.0966 - mean_squared_error: 26.0966 - val_loss: 25.4117 - val_mean_squared_error: 25.4117\n",
            "Epoch 87/100\n",
            "216/216 [==============================] - 0s 2ms/step - loss: 27.8063 - mean_squared_error: 27.8063 - val_loss: 25.5118 - val_mean_squared_error: 25.5118\n",
            "Epoch 88/100\n",
            "216/216 [==============================] - 0s 2ms/step - loss: 27.2519 - mean_squared_error: 27.2519 - val_loss: 25.1417 - val_mean_squared_error: 25.1417\n",
            "Epoch 89/100\n",
            "216/216 [==============================] - 0s 2ms/step - loss: 26.5514 - mean_squared_error: 26.5514 - val_loss: 26.4083 - val_mean_squared_error: 26.4083\n",
            "Epoch 90/100\n",
            "216/216 [==============================] - 0s 2ms/step - loss: 25.8190 - mean_squared_error: 25.8190 - val_loss: 26.1161 - val_mean_squared_error: 26.1161\n",
            "Epoch 91/100\n",
            "216/216 [==============================] - 0s 2ms/step - loss: 26.9141 - mean_squared_error: 26.9141 - val_loss: 25.6316 - val_mean_squared_error: 25.6316\n",
            "Epoch 92/100\n",
            "216/216 [==============================] - 0s 2ms/step - loss: 26.3015 - mean_squared_error: 26.3015 - val_loss: 25.1114 - val_mean_squared_error: 25.1114\n",
            "Epoch 93/100\n",
            "216/216 [==============================] - 0s 2ms/step - loss: 27.1032 - mean_squared_error: 27.1032 - val_loss: 25.0936 - val_mean_squared_error: 25.0936\n",
            "Epoch 94/100\n",
            "216/216 [==============================] - 0s 2ms/step - loss: 25.6859 - mean_squared_error: 25.6859 - val_loss: 25.3413 - val_mean_squared_error: 25.3413\n",
            "Epoch 95/100\n",
            "216/216 [==============================] - 0s 2ms/step - loss: 27.3049 - mean_squared_error: 27.3049 - val_loss: 26.1187 - val_mean_squared_error: 26.1187\n",
            "Epoch 96/100\n",
            "216/216 [==============================] - 0s 2ms/step - loss: 26.6177 - mean_squared_error: 26.6177 - val_loss: 25.6494 - val_mean_squared_error: 25.6494\n",
            "Epoch 97/100\n",
            "216/216 [==============================] - 0s 2ms/step - loss: 26.9514 - mean_squared_error: 26.9514 - val_loss: 25.4878 - val_mean_squared_error: 25.4878\n",
            "Epoch 98/100\n",
            "216/216 [==============================] - 0s 2ms/step - loss: 26.7157 - mean_squared_error: 26.7157 - val_loss: 25.6658 - val_mean_squared_error: 25.6658\n",
            "Epoch 99/100\n",
            "216/216 [==============================] - 0s 2ms/step - loss: 27.2513 - mean_squared_error: 27.2513 - val_loss: 25.2355 - val_mean_squared_error: 25.2355\n",
            "Epoch 100/100\n",
            "216/216 [==============================] - 0s 2ms/step - loss: 26.5076 - mean_squared_error: 26.5076 - val_loss: 25.2584 - val_mean_squared_error: 25.2584\n"
          ],
          "name": "stdout"
        }
      ]
    },
    {
      "cell_type": "code",
      "metadata": {
        "colab": {
          "base_uri": "https://localhost:8080/",
          "height": 297
        },
        "id": "AF9lLg3dGQ49",
        "outputId": "46b17151-04e9-4251-e663-61541bfb4d6a"
      },
      "source": [
        "plt.plot(h1.history[\"mean_squared_logarithmic_error\"])\n",
        "plt.plot(h1.history[\"val_mean_squared_logarithmic_error\"])\n",
        "plt.legend([\"mean_squared_logarithmic_error\" , \"val_mean_squared_logarithmic_error\"])\n",
        "plt.xlabel(\"Epochs\")\n",
        "plt.ylabel(\"Mean squared log error\")"
      ],
      "execution_count": 49,
      "outputs": [
        {
          "output_type": "execute_result",
          "data": {
            "text/plain": [
              "Text(0, 0.5, 'Mean squared log error')"
            ]
          },
          "metadata": {
            "tags": []
          },
          "execution_count": 49
        },
        {
          "output_type": "display_data",
          "data": {
            "image/png": "[encoded data removed]",
            "text/plain": [
              "<Figure size 432x288 with 1 Axes>"
            ]
          },
          "metadata": {
            "tags": [],
            "needs_background": "light"
          }
        }
      ]
    },
    {
      "cell_type": "code",
      "metadata": {
        "colab": {
          "base_uri": "https://localhost:8080/",
          "height": 300
        },
        "id": "Ck6dMjXeJWvP",
        "outputId": "edbca690-94c0-49e3-ab97-0efb7bd4fbf8"
      },
      "source": [
        "plt.plot(h2.history[\"mean_squared_error\"])\n",
        "plt.plot(h2.history[\"val_mean_squared_error\"])\n",
        "plt.legend([\"mean_squared_error\" , \"val_mean_squared_error\"])\n",
        "plt.xlabel(\"Epochs\")\n",
        "plt.ylabel(\"Mean squared error\")"
      ],
      "execution_count": 50,
      "outputs": [
        {
          "output_type": "execute_result",
          "data": {
            "text/plain": [
              "Text(0, 0.5, 'Mean squared error')"
            ]
          },
          "metadata": {
            "tags": []
          },
          "execution_count": 50
        },
        {
          "output_type": "display_data",
          "data": {
            "image/png": "[encoded data removed]",
            "text/plain": [
              "<Figure size 432x288 with 1 Axes>"
            ]
          },
          "metadata": {
            "tags": [],
            "needs_background": "light"
          }
        }
      ]
    },
    {
      "cell_type": "code",
      "metadata": {
        "colab": {
          "base_uri": "https://localhost:8080/",
          "height": 297
        },
        "id": "4xd3nVJ1GuHV",
        "outputId": "f6704a87-111c-4af4-dfbd-c08683a7cfe9"
      },
      "source": [
        "plt.plot(h1.history[\"loss\"])\n",
        "plt.plot(h1.history[\"val_loss\"])\n",
        "plt.legend([\"loss\" , \"val_loss\"])\n",
        "plt.xlabel(\"Epochs\")\n",
        "plt.ylabel(\"Loss\")"
      ],
      "execution_count": 51,
      "outputs": [
        {
          "output_type": "execute_result",
          "data": {
            "text/plain": [
              "Text(0, 0.5, 'Loss')"
            ]
          },
          "metadata": {
            "tags": []
          },
          "execution_count": 51
        },
        {
          "output_type": "display_data",
          "data": {
            "image/png": "[encoded data removed]",
            "text/plain": [
              "<Figure size 432x288 with 1 Axes>"
            ]
          },
          "metadata": {
            "tags": [],
            "needs_background": "light"
          }
        }
      ]
    },
    {
      "cell_type": "code",
      "metadata": {
        "colab": {
          "base_uri": "https://localhost:8080/",
          "height": 300
        },
        "id": "7wUvCZJKJn6c",
        "outputId": "af1c1b5f-060f-4e0e-8a28-d3f1cc8b04f6"
      },
      "source": [
        "plt.plot(h2.history[\"loss\"])\n",
        "plt.plot(h2.history[\"val_loss\"])\n",
        "plt.legend([\"loss\" , \"val_loss\"])\n",
        "plt.xlabel(\"Epochs\")\n",
        "plt.ylabel(\"Loss\")"
      ],
      "execution_count": 52,
      "outputs": [
        {
          "output_type": "execute_result",
          "data": {
            "text/plain": [
              "Text(0, 0.5, 'Loss')"
            ]
          },
          "metadata": {
            "tags": []
          },
          "execution_count": 52
        },
        {
          "output_type": "display_data",
          "data": {
            "image/png": "[encoded data removed]",
            "text/plain": [
              "<Figure size 432x288 with 1 Axes>"
            ]
          },
          "metadata": {
            "tags": [],
            "needs_background": "light"
          }
        }
      ]
    },
    {
      "cell_type": "markdown",
      "metadata": {
        "id": "0H0zKKNEBLD5"
      },
      "source": [
        "### Predicting the results of the Test set"
      ]
    },
    {
      "cell_type": "code",
      "metadata": {
        "id": "7p-1jXDmHNxM"
      },
      "source": [
        "y_test = y_test.values  # Or y_test = y_test.ravel()"
      ],
      "execution_count": 53,
      "outputs": []
    },
    {
      "cell_type": "code",
      "metadata": {
        "colab": {
          "base_uri": "https://localhost:8080/"
        },
        "id": "DJ7QtLaCHHD8",
        "outputId": "48c1708b-6823-427f-c2d9-b2c3ef85a355"
      },
      "source": [
        "y_preds1 = model1.predict(X_test).ravel()\n",
        "y_preds1"
      ],
      "execution_count": 54,
      "outputs": [
        {
          "output_type": "execute_result",
          "data": {
            "text/plain": [
              "array([457.79263, 440.0057 , 434.8573 , ..., 482.22354, 436.95416,\n",
              "       460.98184], dtype=float32)"
            ]
          },
          "metadata": {
            "tags": []
          },
          "execution_count": 54
        }
      ]
    },
    {
      "cell_type": "code",
      "metadata": {
        "colab": {
          "base_uri": "https://localhost:8080/",
          "height": 399
        },
        "id": "kSQUAM41HjS-",
        "outputId": "0b16cc9a-b672-45ec-95bf-93e45b7dc50c"
      },
      "source": [
        "final1 = pd.DataFrame({\"True\" : y_test , \"Predictions\" : y_preds1})\n",
        "final1"
      ],
      "execution_count": 55,
      "outputs": [
        {
          "output_type": "execute_result",
          "data": {
            "text/html": [
              "<div>\n",
              "<style scoped>\n",
              "    .dataframe tbody tr th:only-of-type {\n",
              "        vertical-align: middle;\n",
              "    }\n",
              "\n",
              "    .dataframe tbody tr th {\n",
              "        vertical-align: top;\n",
              "    }\n",
              "\n",
              "    .dataframe thead th {\n",
              "        text-align: right;\n",
              "    }\n",
              "</style>\n",
              "<table border=\"1\" class=\"dataframe\">\n",
              "  <thead>\n",
              "    <tr style=\"text-align: right;\">\n",
              "      <th></th>\n",
              "      <th>True</th>\n",
              "      <th>Predictions</th>\n",
              "    </tr>\n",
              "  </thead>\n",
              "  <tbody>\n",
              "    <tr>\n",
              "      <th>0</th>\n",
              "      <td>455.27</td>\n",
              "      <td>457.792633</td>\n",
              "    </tr>\n",
              "    <tr>\n",
              "      <th>1</th>\n",
              "      <td>436.31</td>\n",
              "      <td>440.005707</td>\n",
              "    </tr>\n",
              "    <tr>\n",
              "      <th>2</th>\n",
              "      <td>440.68</td>\n",
              "      <td>434.857300</td>\n",
              "    </tr>\n",
              "    <tr>\n",
              "      <th>3</th>\n",
              "      <td>434.40</td>\n",
              "      <td>439.916260</td>\n",
              "    </tr>\n",
              "    <tr>\n",
              "      <th>4</th>\n",
              "      <td>482.06</td>\n",
              "      <td>480.845367</td>\n",
              "    </tr>\n",
              "    <tr>\n",
              "      <th>...</th>\n",
              "      <td>...</td>\n",
              "      <td>...</td>\n",
              "    </tr>\n",
              "    <tr>\n",
              "      <th>1909</th>\n",
              "      <td>430.24</td>\n",
              "      <td>431.730011</td>\n",
              "    </tr>\n",
              "    <tr>\n",
              "      <th>1910</th>\n",
              "      <td>473.20</td>\n",
              "      <td>476.368378</td>\n",
              "    </tr>\n",
              "    <tr>\n",
              "      <th>1911</th>\n",
              "      <td>479.53</td>\n",
              "      <td>482.223541</td>\n",
              "    </tr>\n",
              "    <tr>\n",
              "      <th>1912</th>\n",
              "      <td>435.76</td>\n",
              "      <td>436.954163</td>\n",
              "    </tr>\n",
              "    <tr>\n",
              "      <th>1913</th>\n",
              "      <td>457.10</td>\n",
              "      <td>460.981842</td>\n",
              "    </tr>\n",
              "  </tbody>\n",
              "</table>\n",
              "<p>1914 rows × 2 columns</p>\n",
              "</div>"
            ],
            "text/plain": [
              "        True  Predictions\n",
              "0     455.27   457.792633\n",
              "1     436.31   440.005707\n",
              "2     440.68   434.857300\n",
              "3     434.40   439.916260\n",
              "4     482.06   480.845367\n",
              "...      ...          ...\n",
              "1909  430.24   431.730011\n",
              "1910  473.20   476.368378\n",
              "1911  479.53   482.223541\n",
              "1912  435.76   436.954163\n",
              "1913  457.10   460.981842\n",
              "\n",
              "[1914 rows x 2 columns]"
            ]
          },
          "metadata": {
            "tags": []
          },
          "execution_count": 55
        }
      ]
    },
    {
      "cell_type": "code",
      "metadata": {
        "colab": {
          "base_uri": "https://localhost:8080/"
        },
        "id": "Mug3YK7DLe7u",
        "outputId": "46dbb4c3-841f-4bc5-e80d-c72f5c2ecce1"
      },
      "source": [
        "y_preds2 = model2.predict(X_test).ravel()\n",
        "y_preds2"
      ],
      "execution_count": 56,
      "outputs": [
        {
          "output_type": "execute_result",
          "data": {
            "text/plain": [
              "array([457.18848, 438.8806 , 434.14178, ..., 481.16995, 436.1833 ,\n",
              "       459.43716], dtype=float32)"
            ]
          },
          "metadata": {
            "tags": []
          },
          "execution_count": 56
        }
      ]
    },
    {
      "cell_type": "code",
      "metadata": {
        "colab": {
          "base_uri": "https://localhost:8080/",
          "height": 399
        },
        "id": "VeU76GZdLe4O",
        "outputId": "8b100d80-a3d0-49a4-aad0-b72fdae934cf"
      },
      "source": [
        "final2 = pd.DataFrame({\"True\" : y_test , \"Predictions\" : y_preds2})\n",
        "final2"
      ],
      "execution_count": 57,
      "outputs": [
        {
          "output_type": "execute_result",
          "data": {
            "text/html": [
              "<div>\n",
              "<style scoped>\n",
              "    .dataframe tbody tr th:only-of-type {\n",
              "        vertical-align: middle;\n",
              "    }\n",
              "\n",
              "    .dataframe tbody tr th {\n",
              "        vertical-align: top;\n",
              "    }\n",
              "\n",
              "    .dataframe thead th {\n",
              "        text-align: right;\n",
              "    }\n",
              "</style>\n",
              "<table border=\"1\" class=\"dataframe\">\n",
              "  <thead>\n",
              "    <tr style=\"text-align: right;\">\n",
              "      <th></th>\n",
              "      <th>True</th>\n",
              "      <th>Predictions</th>\n",
              "    </tr>\n",
              "  </thead>\n",
              "  <tbody>\n",
              "    <tr>\n",
              "      <th>0</th>\n",
              "      <td>455.27</td>\n",
              "      <td>457.188477</td>\n",
              "    </tr>\n",
              "    <tr>\n",
              "      <th>1</th>\n",
              "      <td>436.31</td>\n",
              "      <td>438.880615</td>\n",
              "    </tr>\n",
              "    <tr>\n",
              "      <th>2</th>\n",
              "      <td>440.68</td>\n",
              "      <td>434.141785</td>\n",
              "    </tr>\n",
              "    <tr>\n",
              "      <th>3</th>\n",
              "      <td>434.40</td>\n",
              "      <td>438.759583</td>\n",
              "    </tr>\n",
              "    <tr>\n",
              "      <th>4</th>\n",
              "      <td>482.06</td>\n",
              "      <td>479.890198</td>\n",
              "    </tr>\n",
              "    <tr>\n",
              "      <th>...</th>\n",
              "      <td>...</td>\n",
              "      <td>...</td>\n",
              "    </tr>\n",
              "    <tr>\n",
              "      <th>1909</th>\n",
              "      <td>430.24</td>\n",
              "      <td>431.014832</td>\n",
              "    </tr>\n",
              "    <tr>\n",
              "      <th>1910</th>\n",
              "      <td>473.20</td>\n",
              "      <td>475.536804</td>\n",
              "    </tr>\n",
              "    <tr>\n",
              "      <th>1911</th>\n",
              "      <td>479.53</td>\n",
              "      <td>481.169952</td>\n",
              "    </tr>\n",
              "    <tr>\n",
              "      <th>1912</th>\n",
              "      <td>435.76</td>\n",
              "      <td>436.183289</td>\n",
              "    </tr>\n",
              "    <tr>\n",
              "      <th>1913</th>\n",
              "      <td>457.10</td>\n",
              "      <td>459.437164</td>\n",
              "    </tr>\n",
              "  </tbody>\n",
              "</table>\n",
              "<p>1914 rows × 2 columns</p>\n",
              "</div>"
            ],
            "text/plain": [
              "        True  Predictions\n",
              "0     455.27   457.188477\n",
              "1     436.31   438.880615\n",
              "2     440.68   434.141785\n",
              "3     434.40   438.759583\n",
              "4     482.06   479.890198\n",
              "...      ...          ...\n",
              "1909  430.24   431.014832\n",
              "1910  473.20   475.536804\n",
              "1911  479.53   481.169952\n",
              "1912  435.76   436.183289\n",
              "1913  457.10   459.437164\n",
              "\n",
              "[1914 rows x 2 columns]"
            ]
          },
          "metadata": {
            "tags": []
          },
          "execution_count": 57
        }
      ]
    },
    {
      "cell_type": "markdown",
      "metadata": {
        "id": "8MPAFHdFOdM0"
      },
      "source": [
        "## Part 4 - Evaluating Model"
      ]
    },
    {
      "cell_type": "markdown",
      "metadata": {
        "id": "r6t_3_zDOmOo"
      },
      "source": [
        "### Importing metrics from sklearn"
      ]
    },
    {
      "cell_type": "code",
      "metadata": {
        "id": "INuGsHgbOprO"
      },
      "source": [
        "from sklearn.metrics import mean_squared_log_error as msle\n",
        "from sklearn.metrics import mean_squared_error as mse"
      ],
      "execution_count": 58,
      "outputs": []
    },
    {
      "cell_type": "code",
      "metadata": {
        "colab": {
          "base_uri": "https://localhost:8080/"
        },
        "id": "S9fJOdHGLe1N",
        "outputId": "ec9f6f5e-ba28-43c6-ecef-4ec07aa40896"
      },
      "source": [
        "score1 = [msle(y_test , y_preds1) , mse(y_test , y_preds1)]\n",
        "score1"
      ],
      "execution_count": 59,
      "outputs": [
        {
          "output_type": "execute_result",
          "data": {
            "text/plain": [
              "[0.00012519692549611206, 26.20712616194908]"
            ]
          },
          "metadata": {
            "tags": []
          },
          "execution_count": 59
        }
      ]
    },
    {
      "cell_type": "code",
      "metadata": {
        "colab": {
          "base_uri": "https://localhost:8080/"
        },
        "id": "Yp7sacydOC5_",
        "outputId": "03e98803-1b2a-4671-9330-d8f8aa65da38"
      },
      "source": [
        "score2 = [msle(y_test , y_preds2) , mse(y_test , y_preds2)]\n",
        "score2"
      ],
      "execution_count": 60,
      "outputs": [
        {
          "output_type": "execute_result",
          "data": {
            "text/plain": [
              "[0.00011909115345972948, 24.944108223117457]"
            ]
          },
          "metadata": {
            "tags": []
          },
          "execution_count": 60
        }
      ]
    }
  ]
}