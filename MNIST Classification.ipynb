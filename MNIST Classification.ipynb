{
  "nbformat": 4,
  "nbformat_minor": 0,
  "metadata": {
    "colab": {
      "name": "MNIST Classification.ipynb",
      "provenance": [],
      "collapsed_sections": [],
      "authorship_tag": "ABX9TyPdpt6gk6TCh1quyVeerbGL",
      "include_colab_link": true
    },
    "kernelspec": {
      "name": "python3",
      "display_name": "Python 3"
    },
    "language_info": {
      "name": "python"
    },
    "accelerator": "GPU"
  },
  "cells": [
    {
      "cell_type": "markdown",
      "metadata": {
        "id": "view-in-github",
        "colab_type": "text"
      },
      "source": [
        "<a href=\"https://colab.research.google.com/github/DDR7707/End-To-End-DNN-Projects/blob/main/MNIST%20Classification.ipynb\" target=\"_parent\"><img src=\"https://colab.research.google.com/assets/colab-badge.svg\" alt=\"Open In Colab\"/></a>"
      ]
    },
    {
      "cell_type": "markdown",
      "metadata": {
        "id": "gRXLwVrEogGq"
      },
      "source": [
        "# Classification of Handwritten Digits with CNN\n",
        "* Importing datasets from `keras.datasets.mnist`.\n",
        "* Also known as MNIST classification."
      ]
    },
    {
      "cell_type": "markdown",
      "metadata": {
        "id": "z8pLs47Go3Y2"
      },
      "source": [
        "## Importing all required modules"
      ]
    },
    {
      "cell_type": "code",
      "metadata": {
        "id": "U4QPQ0Sfx9bk"
      },
      "source": [
        "import numpy as np\n",
        "import pandas as pd\n",
        "import matplotlib.pyplot as plt\n",
        "import keras\n",
        "from keras.datasets import mnist\n",
        "from keras.models import Sequential\n",
        "from keras.layers import Dense\n",
        "from keras.optimizers import Adam\n",
        "from keras.utils.np_utils import to_categorical\n",
        "from keras.layers import Dropout\n",
        "from keras.layers import Flatten\n",
        "from keras.layers.convolutional import Conv2D\n",
        "from keras.layers.convolutional import MaxPooling2D"
      ],
      "execution_count": 1,
      "outputs": []
    },
    {
      "cell_type": "markdown",
      "metadata": {
        "id": "7sxENeYkpCVy"
      },
      "source": [
        "## Importing the Dataset and setting random seed for reproducability"
      ]
    },
    {
      "cell_type": "code",
      "metadata": {
        "colab": {
          "base_uri": "https://localhost:8080/"
        },
        "id": "lsC30FTzyQr0",
        "outputId": "c2c40966-5d9e-4977-f6f0-69167a8ec889"
      },
      "source": [
        "np.random.seed(42)\n",
        "(X_train, y_train), (X_test, y_test) = mnist.load_data()"
      ],
      "execution_count": 2,
      "outputs": [
        {
          "output_type": "stream",
          "text": [
            "Downloading data from https://storage.googleapis.com/tensorflow/tf-keras-datasets/mnist.npz\n",
            "11493376/11490434 [==============================] - 0s 0us/step\n"
          ],
          "name": "stdout"
        }
      ]
    },
    {
      "cell_type": "code",
      "metadata": {
        "colab": {
          "base_uri": "https://localhost:8080/"
        },
        "id": "kx4mT7wFyaTx",
        "outputId": "8128ea48-6918-4d2d-bab9-422ba197f9cf"
      },
      "source": [
        "print(X_train.shape)\n",
        "print(X_test.shape)\n",
        "print(y_train.shape[0])\n",
        "assert(X_train.shape[0] == y_train.shape[0]), \"The number of images is not equal to the number of labels.\"\n",
        "assert(X_test.shape[0] == y_test.shape[0]), \"The number of images is not equal to the number of labels.\"\n",
        "assert(X_train.shape[1:] == (28,28)), \"The dimensions of the images are not 28x28\"\n",
        "assert(X_test.shape[1:] == (28,28)), \"The dimensions of the images are not 28x28\""
      ],
      "execution_count": 3,
      "outputs": [
        {
          "output_type": "stream",
          "text": [
            "(60000, 28, 28)\n",
            "(10000, 28, 28)\n",
            "60000\n"
          ],
          "name": "stdout"
        }
      ]
    },
    {
      "cell_type": "markdown",
      "metadata": {
        "id": "-2z411wwpSad"
      },
      "source": [
        "### Reshapeing the dataset for the data to be compatable with CNN . \n",
        "* Reshaping the dataset by adding a single colour channel"
      ]
    },
    {
      "cell_type": "code",
      "metadata": {
        "id": "t-4rL-nG0G9n"
      },
      "source": [
        "X_train = X_train.reshape(60000, 28, 28, 1)\n",
        "X_test = X_test.reshape(10000, 28, 28, 1)"
      ],
      "execution_count": 4,
      "outputs": []
    },
    {
      "cell_type": "markdown",
      "metadata": {
        "id": "LiQR77Ldphut"
      },
      "source": [
        "### Converting the output labels into dummyvariables for compatability"
      ]
    },
    {
      "cell_type": "code",
      "metadata": {
        "id": "ga9MAikrycbm"
      },
      "source": [
        "y_train = to_categorical(y_train, 10)\n",
        "y_test = to_categorical(y_test, 10)"
      ],
      "execution_count": 5,
      "outputs": []
    },
    {
      "cell_type": "markdown",
      "metadata": {
        "id": "HCJvjIO1po-X"
      },
      "source": [
        "### Normalizing the input data in the for of array for easy manipulation and training"
      ]
    },
    {
      "cell_type": "code",
      "metadata": {
        "id": "-PkB5F_qyhxb"
      },
      "source": [
        "X_train = X_train/255 \n",
        "X_test = X_test/255\n",
        "output_labels = 10"
      ],
      "execution_count": 6,
      "outputs": []
    },
    {
      "cell_type": "markdown",
      "metadata": {
        "id": "8bTAGpNKpz8C"
      },
      "source": [
        "## Creating the model"
      ]
    },
    {
      "cell_type": "code",
      "metadata": {
        "id": "DMRkRcg40Tz5"
      },
      "source": [
        "def leNet_model():\n",
        "  # create model\n",
        "  model = Sequential()\n",
        "  model.add(Conv2D(35, (5, 5), input_shape=(28, 28, 1), activation='relu'))\n",
        "  model.add(MaxPooling2D(pool_size=(2, 2)))\n",
        "  \n",
        "  model.add(Conv2D(20, (3, 3), activation='relu'))\n",
        "  model.add(MaxPooling2D(pool_size=(2, 2)))\n",
        "  \n",
        "  model.add(Flatten())\n",
        "  model.add(Dense(500, activation='relu'))\n",
        "  model.add(Dropout(0.5))\n",
        "  model.add(Dense(output_labels, activation='softmax'))\n",
        "  # Compile model\n",
        "  model.compile(Adam(lr = 0.01), loss='categorical_crossentropy', metrics=['accuracy'])\n",
        "  return model"
      ],
      "execution_count": 9,
      "outputs": []
    },
    {
      "cell_type": "code",
      "metadata": {
        "colab": {
          "base_uri": "https://localhost:8080/"
        },
        "id": "4ksB7Rlz0ZzT",
        "outputId": "c633f269-158b-4f9b-c05f-652046f07076"
      },
      "source": [
        "model = leNet_model()\n",
        "print(model.summary())"
      ],
      "execution_count": 10,
      "outputs": [
        {
          "output_type": "stream",
          "text": [
            "Model: \"sequential_1\"\n",
            "_________________________________________________________________\n",
            "Layer (type)                 Output Shape              Param #   \n",
            "=================================================================\n",
            "conv2d_2 (Conv2D)            (None, 24, 24, 35)        910       \n",
            "_________________________________________________________________\n",
            "max_pooling2d_2 (MaxPooling2 (None, 12, 12, 35)        0         \n",
            "_________________________________________________________________\n",
            "conv2d_3 (Conv2D)            (None, 10, 10, 20)        6320      \n",
            "_________________________________________________________________\n",
            "max_pooling2d_3 (MaxPooling2 (None, 5, 5, 20)          0         \n",
            "_________________________________________________________________\n",
            "flatten_1 (Flatten)          (None, 500)               0         \n",
            "_________________________________________________________________\n",
            "dense_1 (Dense)              (None, 500)               250500    \n",
            "_________________________________________________________________\n",
            "dropout_1 (Dropout)          (None, 500)               0         \n",
            "_________________________________________________________________\n",
            "dense_2 (Dense)              (None, 10)                5010      \n",
            "=================================================================\n",
            "Total params: 262,740\n",
            "Trainable params: 262,740\n",
            "Non-trainable params: 0\n",
            "_________________________________________________________________\n",
            "None\n"
          ],
          "name": "stdout"
        }
      ]
    },
    {
      "cell_type": "markdown",
      "metadata": {
        "id": "gfXqPP6OqFJl"
      },
      "source": [
        "### Fitting the training dataset along with the validation set to the model"
      ]
    },
    {
      "cell_type": "code",
      "metadata": {
        "colab": {
          "base_uri": "https://localhost:8080/"
        },
        "id": "E5LE0J410gT2",
        "outputId": "342065f1-5f1a-4d19-fe7b-6dc75dc3e77c"
      },
      "source": [
        "history = model.fit(X_train, y_train, epochs=10,  validation_split = 0.1, batch_size = 400, verbose = 1, shuffle = 1)"
      ],
      "execution_count": 11,
      "outputs": [
        {
          "output_type": "stream",
          "text": [
            "Epoch 1/10\n",
            "135/135 [==============================] - 32s 18ms/step - loss: 0.6179 - accuracy: 0.7940 - val_loss: 0.0500 - val_accuracy: 0.9833\n",
            "Epoch 2/10\n",
            "135/135 [==============================] - 2s 15ms/step - loss: 0.0704 - accuracy: 0.9777 - val_loss: 0.0421 - val_accuracy: 0.9870\n",
            "Epoch 3/10\n",
            "135/135 [==============================] - 2s 15ms/step - loss: 0.0516 - accuracy: 0.9834 - val_loss: 0.0357 - val_accuracy: 0.9905\n",
            "Epoch 4/10\n",
            "135/135 [==============================] - 2s 15ms/step - loss: 0.0481 - accuracy: 0.9850 - val_loss: 0.0360 - val_accuracy: 0.9893\n",
            "Epoch 5/10\n",
            "135/135 [==============================] - 2s 15ms/step - loss: 0.0436 - accuracy: 0.9869 - val_loss: 0.0348 - val_accuracy: 0.9893\n",
            "Epoch 6/10\n",
            "135/135 [==============================] - 2s 15ms/step - loss: 0.0436 - accuracy: 0.9869 - val_loss: 0.0319 - val_accuracy: 0.9912\n",
            "Epoch 7/10\n",
            "135/135 [==============================] - 2s 15ms/step - loss: 0.0382 - accuracy: 0.9877 - val_loss: 0.0376 - val_accuracy: 0.9893\n",
            "Epoch 8/10\n",
            "135/135 [==============================] - 2s 15ms/step - loss: 0.0364 - accuracy: 0.9891 - val_loss: 0.0403 - val_accuracy: 0.9905\n",
            "Epoch 9/10\n",
            "135/135 [==============================] - 2s 15ms/step - loss: 0.0330 - accuracy: 0.9903 - val_loss: 0.0419 - val_accuracy: 0.9893\n",
            "Epoch 10/10\n",
            "135/135 [==============================] - 2s 15ms/step - loss: 0.0343 - accuracy: 0.9901 - val_loss: 0.0448 - val_accuracy: 0.9892\n"
          ],
          "name": "stdout"
        }
      ]
    },
    {
      "cell_type": "markdown",
      "metadata": {
        "id": "TN1UKQC2qbYa"
      },
      "source": [
        "### Plotting the Accuracy and loss function on Training vs Validation datasets"
      ]
    },
    {
      "cell_type": "code",
      "metadata": {
        "colab": {
          "base_uri": "https://localhost:8080/",
          "height": 312
        },
        "id": "j3ruWVqPy9S3",
        "outputId": "a2f54a6d-f8d4-43f9-aa07-f98e4a4d2f2c"
      },
      "source": [
        "plt.plot(history.history['accuracy'])\n",
        "plt.plot(history.history['val_accuracy'])\n",
        "plt.legend(['acc', 'val_acc'])\n",
        "plt.title('Accuracy')\n",
        "plt.xlabel('epoch')"
      ],
      "execution_count": 13,
      "outputs": [
        {
          "output_type": "execute_result",
          "data": {
            "text/plain": [
              "Text(0.5, 0, 'epoch')"
            ]
          },
          "metadata": {
            "tags": []
          },
          "execution_count": 13
        },
        {
          "output_type": "display_data",
          "data": {
            "image/png": "[encoded data removed]",
            "text/plain": [
              "<Figure size 432x288 with 1 Axes>"
            ]
          },
          "metadata": {
            "tags": [],
            "needs_background": "light"
          }
        }
      ]
    },
    {
      "cell_type": "code",
      "metadata": {
        "colab": {
          "base_uri": "https://localhost:8080/",
          "height": 312
        },
        "id": "bnmMTnksy34h",
        "outputId": "82fb6012-a2ec-4a52-eb2f-095a88323b7b"
      },
      "source": [
        "plt.plot(history.history['loss'])\n",
        "plt.plot(history.history['val_loss'])\n",
        "plt.legend(['loss', 'val_loss'])\n",
        "plt.title('Loss')\n",
        "plt.xlabel('epoch')"
      ],
      "execution_count": 14,
      "outputs": [
        {
          "output_type": "execute_result",
          "data": {
            "text/plain": [
              "Text(0.5, 0, 'epoch')"
            ]
          },
          "metadata": {
            "tags": []
          },
          "execution_count": 14
        },
        {
          "output_type": "display_data",
          "data": {
            "image/png": "[encoded data removed]",
            "text/plain": [
              "<Figure size 432x288 with 1 Axes>"
            ]
          },
          "metadata": {
            "tags": [],
            "needs_background": "light"
          }
        }
      ]
    },
    {
      "cell_type": "markdown",
      "metadata": {
        "id": "xAV7juMHqqZV"
      },
      "source": [
        "### Evaluating our model on the test dataset"
      ]
    },
    {
      "cell_type": "code",
      "metadata": {
        "colab": {
          "base_uri": "https://localhost:8080/"
        },
        "id": "cuIQ6bJtzAFJ",
        "outputId": "373228d3-57c4-412e-9fcb-a21c0b83c8b6"
      },
      "source": [
        "score = model.evaluate(X_test, y_test, verbose=0)\n",
        "print(type(score))\n",
        "print('Test score:', score[0])\n",
        "print('Test accuracy:', score[1])"
      ],
      "execution_count": 16,
      "outputs": [
        {
          "output_type": "stream",
          "text": [
            "<class 'list'>\n",
            "Test score: 0.039013948291540146\n",
            "Test accuracy: 0.9900000095367432\n"
          ],
          "name": "stdout"
        }
      ]
    },
    {
      "cell_type": "markdown",
      "metadata": {
        "id": "xwMK22x7rCf3"
      },
      "source": [
        "# Finally got an accuracy of around 99 percent"
      ]
    }
  ]
}